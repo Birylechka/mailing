{
 "cells": [
  {
   "cell_type": "code",
   "execution_count": 6,
   "metadata": {
    "collapsed": true
   },
   "outputs": [],
   "source": [
    "import win32com.client as win32\n",
    "\n",
    "import sys, os\n",
    "import pandas as pd\n",
    "from PIL import Image, ImageTk\n",
    "\n",
    "def Emailer(text, subject, recipient, auto=True):\n",
    "    outlook = win32.Dispatch('outlook.application')\n",
    "    mail = outlook.CreateItem(0)\n",
    "    #mail.From = \"Gemba_report_VVB@sberbank.ru\"\n",
    "    mail.To = recipient\n",
    "    mail.Cc = recipient2\n",
    "    mail.Subject = subject\n",
    "    mail.HtmlBody = text\n",
    "    #mail.Body = text\n",
    "    \n",
    "    #attachment = os.getcwd() +\"\\\\Приложение. Форма Гемба.xlsx\"\n",
    "    #mail.Attachments.Add(attachment)\n",
    "\n",
    "    \n",
    "    \n",
    "    mail.SentOnBehalfOfName = 'OFICE_DRUG_VVB@sberbank.ru'\n",
    "    \n",
    "    if auto==True:\n",
    "        mail.send\n",
    "    else:\n",
    "        mail.Display(False) #mail.open # or whatever the correct code is\n",
    "    \n",
    "\n",
    "\n",
    "excel = pd.read_excel(f'outlook.xlsx', sheetname=0, encoding = \"utf-8\", dtype=str)\n",
    "Adress=excel['Adress'].values.tolist()\n",
    "Adress2=excel['Adress2'].values.tolist()\n",
    "NameFIO=excel['Name'].values.tolist()\n",
    "\n",
    "for ix in range(len(Adress)):\n",
    "    #print(Adress[ix],NameFIO[ix])\n",
    "    recipient=Adress[ix]\n",
    "    recipient2=Adress2[ix]\n",
    "    recipient3=NameFIO[ix]\n",
    "    subject=\"Улучшение работы сотрудников Agile команд\" \n",
    "    \n",
    "    \n",
    "    text=(\n",
    "    '<font face=\"Arial\">'\n",
    "    '<span style=\"font-size:12pt\"><b>'+ 'Здравствуйте, ' + NameFIO[ix] + '!' + '</b><br><br>'\n",
    "    'Мы занимаемся улучшением работы сотрудников Agile команд, для этого мы проводим исследование CSI по работе со смежным подразделениями:' + '</b><br><br>'\n",
    "    '- Оценка инструментов SAST;' + '</b><br>'\n",
    "    '- Экспертиза Кибербезопасности для команд;' + '</b><br>'   \n",
    "    '- Фрод-мониторинг;' + '</b><br>'   \n",
    "    '- Комплаенс по вопросам ПОД/ФТ (115-ФЗ) в рамках реализации продуктов;' + '</b><br>'\n",
    "    '- Вендор в команду (сопровождение закупок внешних ИТ-ресурсов и организация работы внешних сотрудников);' + '</b><br><br>'    \n",
    "    'Уделите, пожалуйста, ' + '<span style=\"font-size:12pt\"><b>2-3 минуты ' +\n",
    "    '<span style=\"font-size:12pt\"></b>Вашего времени и пройдите опрос.<br><br>' \n",
    "    #'<img alt=\"1.jpg\" width=\"200\" height=\"100\"><br><br>'\n",
    "    '<font size=\"3\" color:#3E5F8A face=\"Arial\"><b><a href=\"https://public.oprosso.sberbank.ru/p/p0brscrn\">Пройти опрос</a>'+ '<i></b><br><br>'\n",
    "    '<font size=\"2\" color=\"black face=\"Arial\"></b>В опросе просьба выбирать те подразделения, с которыми Вы взаимодействовали в своей работе.')\n",
    "    Emailer(text, subject, recipient)\n",
    "       \n"
   ]
  },
  {
   "cell_type": "code",
   "execution_count": null,
   "metadata": {
    "collapsed": true
   },
   "outputs": [],
   "source": []
  }
 ],
 "metadata": {
  "kernelspec": {
   "display_name": "Python 3",
   "language": "python",
   "name": "python3"
  },
  "language_info": {
   "codemirror_mode": {
    "name": "ipython",
    "version": 3
   },
   "file_extension": ".py",
   "mimetype": "text/x-python",
   "name": "python",
   "nbconvert_exporter": "python",
   "pygments_lexer": "ipython3",
   "version": "3.6.1"
  }
 },
 "nbformat": 4,
 "nbformat_minor": 2
}
