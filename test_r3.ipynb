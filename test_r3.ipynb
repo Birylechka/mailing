{
 "cells": [
  {
   "cell_type": "code",
   "execution_count": 7,
   "metadata": {},
   "outputs": [],
   "source": [
    "import win32com.client as win32\n",
    "\n",
    "import sys, os\n",
    "import pandas as pd\n",
    "from PIL import Image, ImageTk\n",
    "\n",
    "def Emailer(text, subject, recipient, auto=True):\n",
    "    outlook = win32.Dispatch('outlook.application')\n",
    "    mail = outlook.CreateItem(0)\n",
    "    #mail.From = \"Gemba_report_VVB@sberbank.ru\"\n",
    "    mail.To = recipient\n",
    "    mail.Cc = recipient2\n",
    "    mail.Subject = subject\n",
    "    mail.HtmlBody = text\n",
    "    #mail.Body = text\n",
    "    \n",
    "    #attachment = os.getcwd() +\"\\\\Приложение. Форма Гемба.xlsx\"\n",
    "    #mail.Attachments.Add(attachment)\n",
    "\n",
    "    \n",
    "    \n",
    "    mail.SentOnBehalfOfName = 'Shtab_AntiCov_VVB@sberbank.ru'\n",
    "    \n",
    "    if auto==True:\n",
    "        mail.send\n",
    "    else:\n",
    "        mail.Display(False) #mail.open # or whatever the correct code is\n",
    "    \n",
    "\n",
    "\n",
    "excel = pd.read_excel(f'outlook.xlsx', sheetname=0, encoding = \"utf-8\", dtype=str)\n",
    "Adress=excel['Adress'].values.tolist()\n",
    "Adress2=excel['Adress2'].values.tolist()\n",
    "NameFIO=excel['Name'].values.tolist()\n",
    "\n",
    "for ix in range(len(Adress)):\n",
    "    #print(Adress[ix],NameFIO[ix])\n",
    "    recipient=Adress[ix]\n",
    "    recipient2=Adress2[ix]\n",
    "    recipient3=NameFIO[ix]\n",
    "    subject=\"Уровень защиты\" \n",
    "    \n",
    "    \n",
    "    text=(\n",
    "    '<font face=\"Arial\">'\n",
    "    '<span style=\"font-size:12pt\"></b>'+ 'Добрый день! ' + '</b><br><br>'\n",
    "    '<span style=\"font-size:12pt\"></b>' + NameFIO[ix] + ', в преддверии новой волны заболеваемости, нам крайне важно понять уровень защиты сотрудников Волго-Вятского банка.' + '</b><br><br>'\n",
    "    '<span style=\"font-size:12pt\"><b>В связи с этим,  просьба ответить на один вопрос:<br><br>'  \n",
    "    '<font size=\"3\" color:#3E5F8A face=\"Arial\"><b><a href=\"https://sberfriend.sbrf.ru/sberfriend/#/media/post/24789979\">Внешняя ссылка </a>'+ '</b><br><br>'\n",
    "    '<font size=\"3\" color:#3E5F8A face=\"Arial\"><b><a href=\"https://sberfriend.ca.sbrf.ru/sberfriend/#/media/post/24789979\">Внутренняя ссылка </a>'+ '</b><br><br>')\n",
    "    Emailer(text, subject, recipient)\n",
    "       \n"
   ]
  },
  {
   "cell_type": "code",
   "execution_count": null,
   "metadata": {
    "collapsed": true
   },
   "outputs": [],
   "source": []
  }
 ],
 "metadata": {
  "kernelspec": {
   "display_name": "Python 3",
   "language": "python",
   "name": "python3"
  },
  "language_info": {
   "codemirror_mode": {
    "name": "ipython",
    "version": 3
   },
   "file_extension": ".py",
   "mimetype": "text/x-python",
   "name": "python",
   "nbconvert_exporter": "python",
   "pygments_lexer": "ipython3",
   "version": "3.6.1"
  }
 },
 "nbformat": 4,
 "nbformat_minor": 2
}
