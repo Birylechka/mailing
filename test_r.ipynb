{
 "cells": [
  {
   "cell_type": "code",
   "execution_count": 9,
   "metadata": {},
   "outputs": [],
   "source": [
    "import win32com.client as win32\n",
    "\n",
    "import sys, os\n",
    "import pandas as pd\n",
    "from PIL import Image, ImageTk\n",
    "\n",
    "def Emailer(text, subject, recipient, auto=True):\n",
    "    outlook = win32.Dispatch('outlook.application')\n",
    "    mail = outlook.CreateItem(0)\n",
    "    \n",
    "    mail.To = recipient\n",
    "    mail.Cc = recipient2\n",
    "    mail.Subject = subject\n",
    "    mail.HtmlBody = text\n",
    "    #mail.Body = text\n",
    "    \n",
    "    attachment = os.getcwd() +\"\\\\Активные участники за 1 квартал.xlsx\"\n",
    "    mail.Attachments.Add(attachment)\n",
    "\n",
    "    \n",
    "    \n",
    "    mail.SentOnBehalfOfName = 'OFICE_DRUG_VVB@sberbank.ru'\n",
    "    \n",
    "    if auto==True:\n",
    "        mail.send\n",
    "    else:\n",
    "        mail.Display(False) #mail.open # or whatever the correct code is\n",
    "    \n",
    "\n",
    "\n",
    "excel = pd.read_excel(f'outlook.xlsx', sheetname=0, encoding = \"utf-8\", dtype=str)\n",
    "Adress=excel['Adress'].values.tolist()\n",
    "Adress2=excel['Adress2'].values.tolist()\n",
    "#NameFIO=excel['Name'].values.tolist()\n",
    "\n",
    "for ix in range(len(Adress)):\n",
    "    #print(Adress[ix],NameFIO[ix])\n",
    "    recipient=Adress[ix]\n",
    "    recipient2=Adress2[ix]\n",
    "    #recipient3=NameFIO[ix]\n",
    "    subject=\"Благодарность \" \n",
    "    \n",
    "    \n",
    "    text=(\n",
    "    '<font face=\"Arial\">'\n",
    "    '<span style=\"font-size:12pt\"><b>'+ 'Уважаемые коллеги, добрый день!' + '</b><br><br>'\n",
    "    'От лица Офиса Друг Волго-Вятского банка мы бы хотели поблагодарить вас и ваших сотрудников за активное участие в тестировании новых навыков Виртуального ассистента, функциональности СберЧата и СберДруга.' + '</b><br>'\n",
    "    'На протяжении 1 квартала ваши сотрудники помогали нам и разработчикам СберДруга/СберЧата из Центрального аппарата выявлять ошибки и отклонения в работе, давали обратную связь и помогали совершенствовать функции, связанные с работой.' + '</b><br><br>'\n",
    "    'Помощь каждого сотрудника в тестировании продуктов действительно ценна. Кроме того, все коллеги, принявшие участие в тестировании, теперь знают о множестве интересных функций, которыми могут поделиться с коллективом вашего подразделения.' + '</b><br><br>'\n",
    "    'Мы благодарим каждого, кто принимал участие в тестировании и просим по возможности учесть это в оценке ценностей по системе 5+.' + '</b><br><br>'\n",
    "    'Спасибо, коллеги, за таких вовлеченных сотрудников!' + '</b><br><br>'\n",
    "        \n",
    "    '<font size=\"3\" color=\"blue face=\"Arial\"><b>С заботой и уважением к Вам, Офис Друг ВВБ.')\n",
    "    Emailer(text, subject, recipient)\n",
    "       \n"
   ]
  },
  {
   "cell_type": "code",
   "execution_count": null,
   "metadata": {
    "collapsed": true
   },
   "outputs": [],
   "source": []
  }
 ],
 "metadata": {
  "kernelspec": {
   "display_name": "Python 3",
   "language": "python",
   "name": "python3"
  },
  "language_info": {
   "codemirror_mode": {
    "name": "ipython",
    "version": 3
   },
   "file_extension": ".py",
   "mimetype": "text/x-python",
   "name": "python",
   "nbconvert_exporter": "python",
   "pygments_lexer": "ipython3",
   "version": "3.6.1"
  }
 },
 "nbformat": 4,
 "nbformat_minor": 2
}
