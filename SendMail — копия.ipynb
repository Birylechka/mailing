{
 "cells": [
  {
   "cell_type": "code",
   "execution_count": 1,
   "metadata": {
    "collapsed": true
   },
   "outputs": [],
   "source": [
    "import win32com.client as win32\n",
    "\n",
    "import sys, os\n",
    "import pandas as pd\n",
    "\n",
    "def Emailer(text, subject, recipient, auto=True):\n",
    "    outlook = win32.Dispatch('outlook.application')\n",
    "    mail = outlook.CreateItem(0)\n",
    "    #mail.From = \"Gemba_report_VVB@sberbank.ru\"\n",
    "    mail.To = recipient\n",
    "    mail.Cc = recipient2\n",
    "    mail.Subject = subject\n",
    "    mail.HtmlBody = text\n",
    "    #mail.Body = text\n",
    "    \n",
    "    #attachment = os.getcwd() +\"\\\\Приложение. Форма Гемба.xlsx\"\n",
    "    #mail.Attachments.Add(attachment)\n",
    "\n",
    "    \n",
    "    \n",
    "    mail.SentOnBehalfOfName = 'Shtab_AntiCov_VVB@sberbank.ru'\n",
    "    \n",
    "    if auto==True:\n",
    "        mail.send\n",
    "    else:\n",
    "        mail.Display(False) #mail.open # or whatever the correct code is\n",
    "    \n",
    "\n",
    "    \n",
    "\n",
    "excel = pd.read_excel(r'C:\\Users\\19356099\\Desktop\\Рассылка на руководителей/outlook.xlsx', sheetname=0, encoding = \"utf-8\", dtype=str)\n",
    "Adress=excel['Adress'].values.tolist()\n",
    "Adress2=excel['Adress2'].values.tolist()\n",
    "NameFIO=excel['Name'].values.tolist()\n",
    "\n",
    "for ix in range(len(Adress)):\n",
    "    #print(Adress[ix],NameFIO[ix])\n",
    "    recipient=Adress[ix]\n",
    "    recipient2=Adress2[ix]\n",
    "    subject=\"Уведомление Штаба Anticov ВВБ\" \n",
    "    \n",
    "    \n",
    "    text=(\n",
    "    '<font face=\"Arial\">'\n",
    "    '<span style=\"font-size:14pt\">' + NameFIO[ix] + '<br><br>'\n",
    "    'Согласно рекомендациям Министерства здравоохранения РФ повторную прививку от Covid-19 '\n",
    "    'необходимо сделать не позднее шести месяцев после пройденной вакцинации. Для ревакцинации '\n",
    "    'от Covid-19 подходят все российские препараты.<br><br>'\n",
    "    'В связи с этим мы приглашаем сотрудников Вашего подразделения пройти ревакцинацию в пунктах вакцинации вашего региона. '\n",
    "    'Запись на вакцинацию осуществляется через портал Госуслуг либо через ответственных ЦКП на вашей территории.<br><br>'\n",
    "    '<span style=\"color:#FF0000\">'+'<b>Важно! После ревакцинации необходимо передать данные по шаблону «COVID Передача данных о тестировании и '\n",
    "    'вакцинации» в СберДруге.' + '</b></span><br><br>'\n",
    "    '<b>С заботой и уважением, Штаб Anticov ВВБ.</b><br><br>'\n",
    "    '<b>При возникновении вопросов вы можете:</b><br><br>'\n",
    "    '• обратиться к ответственным сотрудникам ЦКП на вашей территории<br>'\n",
    "    '• задать свой вопрос ответным письмом в адрес Штаб AntiCoV ВВБ '+'<span style=\"color:#0462c1\" text-decoration=\"underline\"><b>Shtab_AntiCov_VVB@sberbank.ru</b></span>'\n",
    "    ' либо по телефону <span style=\"color:#0462c1\"><b><u>горячей линии</u>' + ' ' + '<u>8-980-028-18-01 (Офис Друг)</u></b></span><br><br>'\n",
    "    '<font size=\"2\" color=\"blue\" face=\"Arial\"><b>Мониторинг и нформационная рассылка осуществляется при поддержке Офиса ДРУГ Волго-Вятского банка</b></font>'\n",
    "    '</span></font>')\n",
    "\n",
    "\n",
    "    Emailer(text, subject, recipient)\n",
    "\n"
   ]
  },
  {
   "cell_type": "code",
   "execution_count": null,
   "metadata": {
    "collapsed": true
   },
   "outputs": [],
   "source": []
  }
 ],
 "metadata": {
  "kernelspec": {
   "display_name": "Python 3",
   "language": "python",
   "name": "python3"
  },
  "language_info": {
   "codemirror_mode": {
    "name": "ipython",
    "version": 3
   },
   "file_extension": ".py",
   "mimetype": "text/x-python",
   "name": "python",
   "nbconvert_exporter": "python",
   "pygments_lexer": "ipython3",
   "version": "3.6.1"
  }
 },
 "nbformat": 4,
 "nbformat_minor": 2
}
